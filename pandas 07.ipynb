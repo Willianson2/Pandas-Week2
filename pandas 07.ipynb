{
 "cells": [
  {
   "cell_type": "code",
   "execution_count": 10,
   "id": "293e382f",
   "metadata": {},
   "outputs": [
    {
     "name": "stdout",
     "output_type": "stream",
     "text": [
      "1.2.4\n"
     ]
    }
   ],
   "source": [
    "import pandas as pd\n",
    "\n",
    "print(pd.__version__)"
   ]
  },
  {
   "cell_type": "code",
   "execution_count": 12,
   "id": "9fdd0aee",
   "metadata": {},
   "outputs": [
    {
     "data": {
      "text/html": [
       "<div>\n",
       "<style scoped>\n",
       "    .dataframe tbody tr th:only-of-type {\n",
       "        vertical-align: middle;\n",
       "    }\n",
       "\n",
       "    .dataframe tbody tr th {\n",
       "        vertical-align: top;\n",
       "    }\n",
       "\n",
       "    .dataframe thead th {\n",
       "        text-align: right;\n",
       "    }\n",
       "</style>\n",
       "<table border=\"1\" class=\"dataframe\">\n",
       "  <thead>\n",
       "    <tr style=\"text-align: right;\">\n",
       "      <th></th>\n",
       "      <th>index</th>\n",
       "      <th>A</th>\n",
       "      <th>B</th>\n",
       "      <th>C</th>\n",
       "      <th>D</th>\n",
       "    </tr>\n",
       "  </thead>\n",
       "  <tbody>\n",
       "    <tr>\n",
       "      <th>0</th>\n",
       "      <td>Ues0Lyahtf</td>\n",
       "      <td>0.635284</td>\n",
       "      <td>NaN</td>\n",
       "      <td>0.050846</td>\n",
       "      <td>0.342472</td>\n",
       "    </tr>\n",
       "    <tr>\n",
       "      <th>1</th>\n",
       "      <td>Psv5K66T8o</td>\n",
       "      <td>0.024244</td>\n",
       "      <td>-0.961033</td>\n",
       "      <td>1.497747</td>\n",
       "      <td>2.076492</td>\n",
       "    </tr>\n",
       "    <tr>\n",
       "      <th>2</th>\n",
       "      <td>2D6YH05nHa</td>\n",
       "      <td>1.117161</td>\n",
       "      <td>-0.104380</td>\n",
       "      <td>0.801889</td>\n",
       "      <td>1.265625</td>\n",
       "    </tr>\n",
       "    <tr>\n",
       "      <th>3</th>\n",
       "      <td>xgISmXNqeT</td>\n",
       "      <td>0.326331</td>\n",
       "      <td>1.250287</td>\n",
       "      <td>NaN</td>\n",
       "      <td>-0.304606</td>\n",
       "    </tr>\n",
       "    <tr>\n",
       "      <th>4</th>\n",
       "      <td>gPxatZQxsV</td>\n",
       "      <td>-1.664758</td>\n",
       "      <td>1.016197</td>\n",
       "      <td>-0.196411</td>\n",
       "      <td>-0.734736</td>\n",
       "    </tr>\n",
       "  </tbody>\n",
       "</table>\n",
       "</div>"
      ],
      "text/plain": [
       "        index         A         B         C         D\n",
       "0  Ues0Lyahtf  0.635284       NaN  0.050846  0.342472\n",
       "1  Psv5K66T8o  0.024244 -0.961033  1.497747  2.076492\n",
       "2  2D6YH05nHa  1.117161 -0.104380  0.801889  1.265625\n",
       "3  xgISmXNqeT  0.326331  1.250287       NaN -0.304606\n",
       "4  gPxatZQxsV -1.664758  1.016197 -0.196411 -0.734736"
      ]
     },
     "execution_count": 12,
     "metadata": {},
     "output_type": "execute_result"
    }
   ],
   "source": [
    "df=pd.util.testing.makeMissingDataframe().reset_index()\n",
    "df.head()"
   ]
  },
  {
   "cell_type": "code",
   "execution_count": 13,
   "id": "6ba3fc30",
   "metadata": {},
   "outputs": [
    {
     "data": {
      "text/html": [
       "<div>\n",
       "<style scoped>\n",
       "    .dataframe tbody tr th:only-of-type {\n",
       "        vertical-align: middle;\n",
       "    }\n",
       "\n",
       "    .dataframe tbody tr th {\n",
       "        vertical-align: top;\n",
       "    }\n",
       "\n",
       "    .dataframe thead th {\n",
       "        text-align: right;\n",
       "    }\n",
       "</style>\n",
       "<table border=\"1\" class=\"dataframe\">\n",
       "  <thead>\n",
       "    <tr style=\"text-align: right;\">\n",
       "      <th></th>\n",
       "      <th>Z</th>\n",
       "      <th>A</th>\n",
       "      <th>B</th>\n",
       "      <th>C</th>\n",
       "      <th>D</th>\n",
       "    </tr>\n",
       "  </thead>\n",
       "  <tbody>\n",
       "    <tr>\n",
       "      <th>0</th>\n",
       "      <td>Ues0Lyahtf</td>\n",
       "      <td>0.635284</td>\n",
       "      <td>NaN</td>\n",
       "      <td>0.050846</td>\n",
       "      <td>0.342472</td>\n",
       "    </tr>\n",
       "    <tr>\n",
       "      <th>1</th>\n",
       "      <td>Psv5K66T8o</td>\n",
       "      <td>0.024244</td>\n",
       "      <td>-0.961033</td>\n",
       "      <td>1.497747</td>\n",
       "      <td>2.076492</td>\n",
       "    </tr>\n",
       "    <tr>\n",
       "      <th>2</th>\n",
       "      <td>2D6YH05nHa</td>\n",
       "      <td>1.117161</td>\n",
       "      <td>-0.104380</td>\n",
       "      <td>0.801889</td>\n",
       "      <td>1.265625</td>\n",
       "    </tr>\n",
       "    <tr>\n",
       "      <th>3</th>\n",
       "      <td>xgISmXNqeT</td>\n",
       "      <td>0.326331</td>\n",
       "      <td>1.250287</td>\n",
       "      <td>NaN</td>\n",
       "      <td>-0.304606</td>\n",
       "    </tr>\n",
       "    <tr>\n",
       "      <th>4</th>\n",
       "      <td>gPxatZQxsV</td>\n",
       "      <td>-1.664758</td>\n",
       "      <td>1.016197</td>\n",
       "      <td>-0.196411</td>\n",
       "      <td>-0.734736</td>\n",
       "    </tr>\n",
       "  </tbody>\n",
       "</table>\n",
       "</div>"
      ],
      "text/plain": [
       "            Z         A         B         C         D\n",
       "0  Ues0Lyahtf  0.635284       NaN  0.050846  0.342472\n",
       "1  Psv5K66T8o  0.024244 -0.961033  1.497747  2.076492\n",
       "2  2D6YH05nHa  1.117161 -0.104380  0.801889  1.265625\n",
       "3  xgISmXNqeT  0.326331  1.250287       NaN -0.304606\n",
       "4  gPxatZQxsV -1.664758  1.016197 -0.196411 -0.734736"
      ]
     },
     "execution_count": 13,
     "metadata": {},
     "output_type": "execute_result"
    }
   ],
   "source": [
    "df=df.rename(columns={'index':'Z'})\n",
    "df.head()"
   ]
  },
  {
   "cell_type": "code",
   "execution_count": 14,
   "id": "21dc12c1",
   "metadata": {},
   "outputs": [],
   "source": [
    "df_backup=df.copy(deep=True)"
   ]
  },
  {
   "cell_type": "code",
   "execution_count": 15,
   "id": "57ed8337",
   "metadata": {},
   "outputs": [
    {
     "data": {
      "text/html": [
       "<div>\n",
       "<style scoped>\n",
       "    .dataframe tbody tr th:only-of-type {\n",
       "        vertical-align: middle;\n",
       "    }\n",
       "\n",
       "    .dataframe tbody tr th {\n",
       "        vertical-align: top;\n",
       "    }\n",
       "\n",
       "    .dataframe thead th {\n",
       "        text-align: right;\n",
       "    }\n",
       "</style>\n",
       "<table border=\"1\" class=\"dataframe\">\n",
       "  <thead>\n",
       "    <tr style=\"text-align: right;\">\n",
       "      <th></th>\n",
       "      <th>Z</th>\n",
       "    </tr>\n",
       "  </thead>\n",
       "  <tbody>\n",
       "    <tr>\n",
       "      <th>0</th>\n",
       "      <td>Ues0Lyahtf</td>\n",
       "    </tr>\n",
       "    <tr>\n",
       "      <th>1</th>\n",
       "      <td>Psv5K66T8o</td>\n",
       "    </tr>\n",
       "    <tr>\n",
       "      <th>2</th>\n",
       "      <td>2D6YH05nHa</td>\n",
       "    </tr>\n",
       "    <tr>\n",
       "      <th>3</th>\n",
       "      <td>xgISmXNqeT</td>\n",
       "    </tr>\n",
       "    <tr>\n",
       "      <th>4</th>\n",
       "      <td>gPxatZQxsV</td>\n",
       "    </tr>\n",
       "  </tbody>\n",
       "</table>\n",
       "</div>"
      ],
      "text/plain": [
       "            Z\n",
       "0  Ues0Lyahtf\n",
       "1  Psv5K66T8o\n",
       "2  2D6YH05nHa\n",
       "3  xgISmXNqeT\n",
       "4  gPxatZQxsV"
      ]
     },
     "execution_count": 15,
     "metadata": {},
     "output_type": "execute_result"
    }
   ],
   "source": [
    "df = df.dropna(axis='columns')\n",
    "df.head()"
   ]
  },
  {
   "cell_type": "code",
   "execution_count": 16,
   "id": "fd8d372c",
   "metadata": {},
   "outputs": [
    {
     "data": {
      "text/html": [
       "<div>\n",
       "<style scoped>\n",
       "    .dataframe tbody tr th:only-of-type {\n",
       "        vertical-align: middle;\n",
       "    }\n",
       "\n",
       "    .dataframe tbody tr th {\n",
       "        vertical-align: top;\n",
       "    }\n",
       "\n",
       "    .dataframe thead th {\n",
       "        text-align: right;\n",
       "    }\n",
       "</style>\n",
       "<table border=\"1\" class=\"dataframe\">\n",
       "  <thead>\n",
       "    <tr style=\"text-align: right;\">\n",
       "      <th></th>\n",
       "      <th>Z</th>\n",
       "      <th>A</th>\n",
       "      <th>B</th>\n",
       "      <th>C</th>\n",
       "      <th>D</th>\n",
       "    </tr>\n",
       "  </thead>\n",
       "  <tbody>\n",
       "    <tr>\n",
       "      <th>1</th>\n",
       "      <td>Psv5K66T8o</td>\n",
       "      <td>0.024244</td>\n",
       "      <td>-0.961033</td>\n",
       "      <td>1.497747</td>\n",
       "      <td>2.076492</td>\n",
       "    </tr>\n",
       "    <tr>\n",
       "      <th>2</th>\n",
       "      <td>2D6YH05nHa</td>\n",
       "      <td>1.117161</td>\n",
       "      <td>-0.104380</td>\n",
       "      <td>0.801889</td>\n",
       "      <td>1.265625</td>\n",
       "    </tr>\n",
       "    <tr>\n",
       "      <th>4</th>\n",
       "      <td>gPxatZQxsV</td>\n",
       "      <td>-1.664758</td>\n",
       "      <td>1.016197</td>\n",
       "      <td>-0.196411</td>\n",
       "      <td>-0.734736</td>\n",
       "    </tr>\n",
       "    <tr>\n",
       "      <th>5</th>\n",
       "      <td>lpBJqoG4hl</td>\n",
       "      <td>0.783395</td>\n",
       "      <td>0.298822</td>\n",
       "      <td>-0.957380</td>\n",
       "      <td>-1.817406</td>\n",
       "    </tr>\n",
       "    <tr>\n",
       "      <th>6</th>\n",
       "      <td>4fI9UNRMMx</td>\n",
       "      <td>-0.832909</td>\n",
       "      <td>0.006243</td>\n",
       "      <td>0.415734</td>\n",
       "      <td>-1.208669</td>\n",
       "    </tr>\n",
       "  </tbody>\n",
       "</table>\n",
       "</div>"
      ],
      "text/plain": [
       "            Z         A         B         C         D\n",
       "1  Psv5K66T8o  0.024244 -0.961033  1.497747  2.076492\n",
       "2  2D6YH05nHa  1.117161 -0.104380  0.801889  1.265625\n",
       "4  gPxatZQxsV -1.664758  1.016197 -0.196411 -0.734736\n",
       "5  lpBJqoG4hl  0.783395  0.298822 -0.957380 -1.817406\n",
       "6  4fI9UNRMMx -0.832909  0.006243  0.415734 -1.208669"
      ]
     },
     "execution_count": 16,
     "metadata": {},
     "output_type": "execute_result"
    }
   ],
   "source": [
    "df=df_backup.copy(deep=True)\n",
    "df=df.dropna(axis='rows')\n",
    "df.head()"
   ]
  },
  {
   "cell_type": "code",
   "execution_count": 17,
   "id": "7d887f66",
   "metadata": {},
   "outputs": [
    {
     "data": {
      "text/plain": [
       "Z    0.000000\n",
       "A    0.100000\n",
       "B    0.166667\n",
       "C    0.066667\n",
       "D    0.066667\n",
       "dtype: float64"
      ]
     },
     "execution_count": 17,
     "metadata": {},
     "output_type": "execute_result"
    }
   ],
   "source": [
    "df=df_backup.copy(deep=True)\n",
    "df.isna().mean()"
   ]
  },
  {
   "cell_type": "code",
   "execution_count": 22,
   "id": "77a93d55",
   "metadata": {},
   "outputs": [
    {
     "data": {
      "text/html": [
       "<div>\n",
       "<style scoped>\n",
       "    .dataframe tbody tr th:only-of-type {\n",
       "        vertical-align: middle;\n",
       "    }\n",
       "\n",
       "    .dataframe tbody tr th {\n",
       "        vertical-align: top;\n",
       "    }\n",
       "\n",
       "    .dataframe thead th {\n",
       "        text-align: right;\n",
       "    }\n",
       "</style>\n",
       "<table border=\"1\" class=\"dataframe\">\n",
       "  <thead>\n",
       "    <tr style=\"text-align: right;\">\n",
       "      <th></th>\n",
       "      <th>Z</th>\n",
       "      <th>A</th>\n",
       "      <th>C</th>\n",
       "      <th>D</th>\n",
       "    </tr>\n",
       "  </thead>\n",
       "  <tbody>\n",
       "    <tr>\n",
       "      <th>0</th>\n",
       "      <td>Ues0Lyahtf</td>\n",
       "      <td>0.635284</td>\n",
       "      <td>0.050846</td>\n",
       "      <td>0.342472</td>\n",
       "    </tr>\n",
       "    <tr>\n",
       "      <th>1</th>\n",
       "      <td>Psv5K66T8o</td>\n",
       "      <td>0.024244</td>\n",
       "      <td>1.497747</td>\n",
       "      <td>2.076492</td>\n",
       "    </tr>\n",
       "    <tr>\n",
       "      <th>2</th>\n",
       "      <td>2D6YH05nHa</td>\n",
       "      <td>1.117161</td>\n",
       "      <td>0.801889</td>\n",
       "      <td>1.265625</td>\n",
       "    </tr>\n",
       "    <tr>\n",
       "      <th>3</th>\n",
       "      <td>xgISmXNqeT</td>\n",
       "      <td>0.326331</td>\n",
       "      <td>NaN</td>\n",
       "      <td>-0.304606</td>\n",
       "    </tr>\n",
       "    <tr>\n",
       "      <th>4</th>\n",
       "      <td>gPxatZQxsV</td>\n",
       "      <td>-1.664758</td>\n",
       "      <td>-0.196411</td>\n",
       "      <td>-0.734736</td>\n",
       "    </tr>\n",
       "  </tbody>\n",
       "</table>\n",
       "</div>"
      ],
      "text/plain": [
       "            Z         A         C         D\n",
       "0  Ues0Lyahtf  0.635284  0.050846  0.342472\n",
       "1  Psv5K66T8o  0.024244  1.497747  2.076492\n",
       "2  2D6YH05nHa  1.117161  0.801889  1.265625\n",
       "3  xgISmXNqeT  0.326331       NaN -0.304606\n",
       "4  gPxatZQxsV -1.664758 -0.196411 -0.734736"
      ]
     },
     "execution_count": 22,
     "metadata": {},
     "output_type": "execute_result"
    }
   ],
   "source": [
    "treshold=len(df) * 0.9\n",
    "df = df.dropna(thresh=treshold, axis='columns')\n",
    "df.head()"
   ]
  },
  {
   "cell_type": "code",
   "execution_count": null,
   "id": "68683fa2",
   "metadata": {},
   "outputs": [],
   "source": []
  }
 ],
 "metadata": {
  "kernelspec": {
   "display_name": "Python 3",
   "language": "python",
   "name": "python3"
  },
  "language_info": {
   "codemirror_mode": {
    "name": "ipython",
    "version": 3
   },
   "file_extension": ".py",
   "mimetype": "text/x-python",
   "name": "python",
   "nbconvert_exporter": "python",
   "pygments_lexer": "ipython3",
   "version": "3.8.8"
  }
 },
 "nbformat": 4,
 "nbformat_minor": 5
}
